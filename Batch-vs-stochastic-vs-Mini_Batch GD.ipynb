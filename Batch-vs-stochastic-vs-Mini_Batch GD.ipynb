{
 "cells": [
  {
   "cell_type": "markdown",
   "id": "365bca21",
   "metadata": {},
   "source": [
    "# Batch-vs-stochastic-vs-Mini_Batch GD"
   ]
  },
  {
   "cell_type": "markdown",
   "id": "f0408c39",
   "metadata": {},
   "source": [
    "1. time----------------------------------SGD > MBGD > BGD\n",
    "2. conversion---------------------------SGD < MBGD < BGD\n",
    "3. SGD graph L vs epochs----------more spikes,jaggedness,                 unstable behaviour\n",
    "0. MBGD graph L vs epochs--------less spikes,jaggedness, than the SGD    unstable behaviour \n",
    "0. BGD graph L vs epochs----------smooth curve                            stable behaviour"
   ]
  },
  {
   "cell_type": "markdown",
   "id": "18e5d65e",
   "metadata": {},
   "source": [
    "# Stochastics GD------ batch_size=1"
   ]
  },
  {
   "cell_type": "code",
   "execution_count": 58,
   "id": "86e332e3",
   "metadata": {},
   "outputs": [],
   "source": [
    "import numpy as np\n",
    "import pandas as pd\n",
    "import time"
   ]
  },
  {
   "cell_type": "code",
   "execution_count": 59,
   "id": "afe23ad1",
   "metadata": {},
   "outputs": [],
   "source": [
    "df = pd.read_csv('Social_Network_Ads.csv')"
   ]
  },
  {
   "cell_type": "code",
   "execution_count": 60,
   "id": "4a4bd7df",
   "metadata": {},
   "outputs": [
    {
     "data": {
      "text/html": [
       "<div>\n",
       "<style scoped>\n",
       "    .dataframe tbody tr th:only-of-type {\n",
       "        vertical-align: middle;\n",
       "    }\n",
       "\n",
       "    .dataframe tbody tr th {\n",
       "        vertical-align: top;\n",
       "    }\n",
       "\n",
       "    .dataframe thead th {\n",
       "        text-align: right;\n",
       "    }\n",
       "</style>\n",
       "<table border=\"1\" class=\"dataframe\">\n",
       "  <thead>\n",
       "    <tr style=\"text-align: right;\">\n",
       "      <th></th>\n",
       "      <th>User ID</th>\n",
       "      <th>Gender</th>\n",
       "      <th>Age</th>\n",
       "      <th>EstimatedSalary</th>\n",
       "      <th>Purchased</th>\n",
       "    </tr>\n",
       "  </thead>\n",
       "  <tbody>\n",
       "    <tr>\n",
       "      <th>0</th>\n",
       "      <td>15624510</td>\n",
       "      <td>Male</td>\n",
       "      <td>19</td>\n",
       "      <td>19000</td>\n",
       "      <td>0</td>\n",
       "    </tr>\n",
       "    <tr>\n",
       "      <th>1</th>\n",
       "      <td>15810944</td>\n",
       "      <td>Male</td>\n",
       "      <td>35</td>\n",
       "      <td>20000</td>\n",
       "      <td>0</td>\n",
       "    </tr>\n",
       "    <tr>\n",
       "      <th>2</th>\n",
       "      <td>15668575</td>\n",
       "      <td>Female</td>\n",
       "      <td>26</td>\n",
       "      <td>43000</td>\n",
       "      <td>0</td>\n",
       "    </tr>\n",
       "    <tr>\n",
       "      <th>3</th>\n",
       "      <td>15603246</td>\n",
       "      <td>Female</td>\n",
       "      <td>27</td>\n",
       "      <td>57000</td>\n",
       "      <td>0</td>\n",
       "    </tr>\n",
       "    <tr>\n",
       "      <th>4</th>\n",
       "      <td>15804002</td>\n",
       "      <td>Male</td>\n",
       "      <td>19</td>\n",
       "      <td>76000</td>\n",
       "      <td>0</td>\n",
       "    </tr>\n",
       "  </tbody>\n",
       "</table>\n",
       "</div>"
      ],
      "text/plain": [
       "    User ID  Gender  Age  EstimatedSalary  Purchased\n",
       "0  15624510    Male   19            19000          0\n",
       "1  15810944    Male   35            20000          0\n",
       "2  15668575  Female   26            43000          0\n",
       "3  15603246  Female   27            57000          0\n",
       "4  15804002    Male   19            76000          0"
      ]
     },
     "execution_count": 60,
     "metadata": {},
     "output_type": "execute_result"
    }
   ],
   "source": [
    "df.head()"
   ]
  },
  {
   "cell_type": "code",
   "execution_count": 61,
   "id": "99622b79",
   "metadata": {},
   "outputs": [],
   "source": [
    "df = df[['Age','EstimatedSalary','Purchased']]"
   ]
  },
  {
   "cell_type": "code",
   "execution_count": 62,
   "id": "68255975",
   "metadata": {},
   "outputs": [
    {
     "data": {
      "text/html": [
       "<div>\n",
       "<style scoped>\n",
       "    .dataframe tbody tr th:only-of-type {\n",
       "        vertical-align: middle;\n",
       "    }\n",
       "\n",
       "    .dataframe tbody tr th {\n",
       "        vertical-align: top;\n",
       "    }\n",
       "\n",
       "    .dataframe thead th {\n",
       "        text-align: right;\n",
       "    }\n",
       "</style>\n",
       "<table border=\"1\" class=\"dataframe\">\n",
       "  <thead>\n",
       "    <tr style=\"text-align: right;\">\n",
       "      <th></th>\n",
       "      <th>Age</th>\n",
       "      <th>EstimatedSalary</th>\n",
       "      <th>Purchased</th>\n",
       "    </tr>\n",
       "  </thead>\n",
       "  <tbody>\n",
       "    <tr>\n",
       "      <th>0</th>\n",
       "      <td>19</td>\n",
       "      <td>19000</td>\n",
       "      <td>0</td>\n",
       "    </tr>\n",
       "    <tr>\n",
       "      <th>1</th>\n",
       "      <td>35</td>\n",
       "      <td>20000</td>\n",
       "      <td>0</td>\n",
       "    </tr>\n",
       "    <tr>\n",
       "      <th>2</th>\n",
       "      <td>26</td>\n",
       "      <td>43000</td>\n",
       "      <td>0</td>\n",
       "    </tr>\n",
       "    <tr>\n",
       "      <th>3</th>\n",
       "      <td>27</td>\n",
       "      <td>57000</td>\n",
       "      <td>0</td>\n",
       "    </tr>\n",
       "    <tr>\n",
       "      <th>4</th>\n",
       "      <td>19</td>\n",
       "      <td>76000</td>\n",
       "      <td>0</td>\n",
       "    </tr>\n",
       "  </tbody>\n",
       "</table>\n",
       "</div>"
      ],
      "text/plain": [
       "   Age  EstimatedSalary  Purchased\n",
       "0   19            19000          0\n",
       "1   35            20000          0\n",
       "2   26            43000          0\n",
       "3   27            57000          0\n",
       "4   19            76000          0"
      ]
     },
     "execution_count": 62,
     "metadata": {},
     "output_type": "execute_result"
    }
   ],
   "source": [
    "df.head()"
   ]
  },
  {
   "cell_type": "code",
   "execution_count": 63,
   "id": "b21d5ebd",
   "metadata": {},
   "outputs": [],
   "source": [
    "X = df.iloc[:,0:2]\n",
    "y = df.iloc[:,-1]"
   ]
  },
  {
   "cell_type": "code",
   "execution_count": 64,
   "id": "3cd74bab",
   "metadata": {},
   "outputs": [
    {
     "data": {
      "text/html": [
       "<div>\n",
       "<style scoped>\n",
       "    .dataframe tbody tr th:only-of-type {\n",
       "        vertical-align: middle;\n",
       "    }\n",
       "\n",
       "    .dataframe tbody tr th {\n",
       "        vertical-align: top;\n",
       "    }\n",
       "\n",
       "    .dataframe thead th {\n",
       "        text-align: right;\n",
       "    }\n",
       "</style>\n",
       "<table border=\"1\" class=\"dataframe\">\n",
       "  <thead>\n",
       "    <tr style=\"text-align: right;\">\n",
       "      <th></th>\n",
       "      <th>Age</th>\n",
       "      <th>EstimatedSalary</th>\n",
       "    </tr>\n",
       "  </thead>\n",
       "  <tbody>\n",
       "    <tr>\n",
       "      <th>0</th>\n",
       "      <td>19</td>\n",
       "      <td>19000</td>\n",
       "    </tr>\n",
       "    <tr>\n",
       "      <th>1</th>\n",
       "      <td>35</td>\n",
       "      <td>20000</td>\n",
       "    </tr>\n",
       "    <tr>\n",
       "      <th>2</th>\n",
       "      <td>26</td>\n",
       "      <td>43000</td>\n",
       "    </tr>\n",
       "    <tr>\n",
       "      <th>3</th>\n",
       "      <td>27</td>\n",
       "      <td>57000</td>\n",
       "    </tr>\n",
       "    <tr>\n",
       "      <th>4</th>\n",
       "      <td>19</td>\n",
       "      <td>76000</td>\n",
       "    </tr>\n",
       "    <tr>\n",
       "      <th>...</th>\n",
       "      <td>...</td>\n",
       "      <td>...</td>\n",
       "    </tr>\n",
       "    <tr>\n",
       "      <th>395</th>\n",
       "      <td>46</td>\n",
       "      <td>41000</td>\n",
       "    </tr>\n",
       "    <tr>\n",
       "      <th>396</th>\n",
       "      <td>51</td>\n",
       "      <td>23000</td>\n",
       "    </tr>\n",
       "    <tr>\n",
       "      <th>397</th>\n",
       "      <td>50</td>\n",
       "      <td>20000</td>\n",
       "    </tr>\n",
       "    <tr>\n",
       "      <th>398</th>\n",
       "      <td>36</td>\n",
       "      <td>33000</td>\n",
       "    </tr>\n",
       "    <tr>\n",
       "      <th>399</th>\n",
       "      <td>49</td>\n",
       "      <td>36000</td>\n",
       "    </tr>\n",
       "  </tbody>\n",
       "</table>\n",
       "<p>400 rows × 2 columns</p>\n",
       "</div>"
      ],
      "text/plain": [
       "     Age  EstimatedSalary\n",
       "0     19            19000\n",
       "1     35            20000\n",
       "2     26            43000\n",
       "3     27            57000\n",
       "4     19            76000\n",
       "..   ...              ...\n",
       "395   46            41000\n",
       "396   51            23000\n",
       "397   50            20000\n",
       "398   36            33000\n",
       "399   49            36000\n",
       "\n",
       "[400 rows x 2 columns]"
      ]
     },
     "execution_count": 64,
     "metadata": {},
     "output_type": "execute_result"
    }
   ],
   "source": [
    "X"
   ]
  },
  {
   "cell_type": "code",
   "execution_count": 65,
   "id": "ddbb386e",
   "metadata": {},
   "outputs": [],
   "source": [
    "from sklearn.preprocessing import StandardScaler\n",
    "scaler = StandardScaler()\n",
    "\n",
    "X_scaled = scaler.fit_transform(X)"
   ]
  },
  {
   "cell_type": "code",
   "execution_count": 66,
   "id": "afc4694f",
   "metadata": {},
   "outputs": [
    {
     "data": {
      "text/plain": [
       "(400, 2)"
      ]
     },
     "execution_count": 66,
     "metadata": {},
     "output_type": "execute_result"
    }
   ],
   "source": [
    "X_scaled.shape"
   ]
  },
  {
   "cell_type": "code",
   "execution_count": 67,
   "id": "ae015d7f",
   "metadata": {},
   "outputs": [],
   "source": [
    "import tensorflow as tf\n",
    "from tensorflow import keras\n",
    "from keras import Sequential\n",
    "from keras.layers import Dense"
   ]
  },
  {
   "cell_type": "code",
   "execution_count": 68,
   "id": "1b602970",
   "metadata": {},
   "outputs": [],
   "source": [
    "model = Sequential()\n",
    "\n",
    "model.add(Dense(10,activation='relu',input_dim=2))\n",
    "model.add(Dense(10,activation='relu'))\n",
    "model.add(Dense(1,activation='sigmoid'))"
   ]
  },
  {
   "cell_type": "code",
   "execution_count": 69,
   "id": "3c8acc27",
   "metadata": {},
   "outputs": [
    {
     "name": "stdout",
     "output_type": "stream",
     "text": [
      "Model: \"sequential_4\"\n",
      "_________________________________________________________________\n",
      " Layer (type)                Output Shape              Param #   \n",
      "=================================================================\n",
      " dense_12 (Dense)            (None, 10)                30        \n",
      "                                                                 \n",
      " dense_13 (Dense)            (None, 10)                110       \n",
      "                                                                 \n",
      " dense_14 (Dense)            (None, 1)                 11        \n",
      "                                                                 \n",
      "=================================================================\n",
      "Total params: 151 (604.00 Byte)\n",
      "Trainable params: 151 (604.00 Byte)\n",
      "Non-trainable params: 0 (0.00 Byte)\n",
      "_________________________________________________________________\n"
     ]
    }
   ],
   "source": [
    "model.summary()"
   ]
  },
  {
   "cell_type": "code",
   "execution_count": 70,
   "id": "d6b89808",
   "metadata": {},
   "outputs": [
    {
     "name": "stdout",
     "output_type": "stream",
     "text": [
      "Epoch 1/25\n",
      "320/320 [==============================] - 2s 5ms/step - loss: 0.6189 - accuracy: 0.7375 - val_loss: 0.6571 - val_accuracy: 0.6375\n",
      "Epoch 2/25\n",
      "320/320 [==============================] - 1s 3ms/step - loss: 0.4836 - accuracy: 0.7906 - val_loss: 0.5847 - val_accuracy: 0.7000\n",
      "Epoch 3/25\n",
      "320/320 [==============================] - 1s 3ms/step - loss: 0.3888 - accuracy: 0.8094 - val_loss: 0.4954 - val_accuracy: 0.7250\n",
      "Epoch 4/25\n",
      "320/320 [==============================] - 1s 3ms/step - loss: 0.3415 - accuracy: 0.8375 - val_loss: 0.4392 - val_accuracy: 0.7625\n",
      "Epoch 5/25\n",
      "320/320 [==============================] - 1s 3ms/step - loss: 0.3140 - accuracy: 0.8469 - val_loss: 0.3874 - val_accuracy: 0.8125\n",
      "Epoch 6/25\n",
      "320/320 [==============================] - 1s 3ms/step - loss: 0.3017 - accuracy: 0.8531 - val_loss: 0.3551 - val_accuracy: 0.8375\n",
      "Epoch 7/25\n",
      "320/320 [==============================] - 1s 3ms/step - loss: 0.2920 - accuracy: 0.8594 - val_loss: 0.3212 - val_accuracy: 0.8875\n",
      "Epoch 8/25\n",
      "320/320 [==============================] - 1s 3ms/step - loss: 0.2858 - accuracy: 0.8594 - val_loss: 0.2928 - val_accuracy: 0.9000\n",
      "Epoch 9/25\n",
      "320/320 [==============================] - 1s 3ms/step - loss: 0.2831 - accuracy: 0.8687 - val_loss: 0.2669 - val_accuracy: 0.9125\n",
      "Epoch 10/25\n",
      "320/320 [==============================] - 1s 3ms/step - loss: 0.2768 - accuracy: 0.8719 - val_loss: 0.2613 - val_accuracy: 0.9250\n",
      "Epoch 11/25\n",
      "320/320 [==============================] - 1s 3ms/step - loss: 0.2752 - accuracy: 0.8719 - val_loss: 0.2444 - val_accuracy: 0.9375\n",
      "Epoch 12/25\n",
      "320/320 [==============================] - 1s 3ms/step - loss: 0.2728 - accuracy: 0.8781 - val_loss: 0.2266 - val_accuracy: 0.9625\n",
      "Epoch 13/25\n",
      "320/320 [==============================] - 1s 3ms/step - loss: 0.2675 - accuracy: 0.8781 - val_loss: 0.2149 - val_accuracy: 0.9750\n",
      "Epoch 14/25\n",
      "320/320 [==============================] - 1s 3ms/step - loss: 0.2675 - accuracy: 0.8844 - val_loss: 0.2001 - val_accuracy: 0.9750\n",
      "Epoch 15/25\n",
      "320/320 [==============================] - 1s 3ms/step - loss: 0.2673 - accuracy: 0.8875 - val_loss: 0.1890 - val_accuracy: 0.9750\n",
      "Epoch 16/25\n",
      "320/320 [==============================] - 1s 3ms/step - loss: 0.2659 - accuracy: 0.8875 - val_loss: 0.1825 - val_accuracy: 0.9750\n",
      "Epoch 17/25\n",
      "320/320 [==============================] - 1s 3ms/step - loss: 0.2647 - accuracy: 0.8813 - val_loss: 0.1758 - val_accuracy: 0.9750\n",
      "Epoch 18/25\n",
      "320/320 [==============================] - 1s 3ms/step - loss: 0.2626 - accuracy: 0.8844 - val_loss: 0.1725 - val_accuracy: 0.9750\n",
      "Epoch 19/25\n",
      "320/320 [==============================] - 1s 3ms/step - loss: 0.2645 - accuracy: 0.8813 - val_loss: 0.1713 - val_accuracy: 0.9750\n",
      "Epoch 20/25\n",
      "320/320 [==============================] - 1s 3ms/step - loss: 0.2644 - accuracy: 0.8906 - val_loss: 0.1693 - val_accuracy: 0.9750\n",
      "Epoch 21/25\n",
      "320/320 [==============================] - 1s 4ms/step - loss: 0.2668 - accuracy: 0.8875 - val_loss: 0.1679 - val_accuracy: 0.9750\n",
      "Epoch 22/25\n",
      "320/320 [==============================] - 1s 4ms/step - loss: 0.2654 - accuracy: 0.8938 - val_loss: 0.1713 - val_accuracy: 0.9750\n",
      "Epoch 23/25\n",
      "320/320 [==============================] - 1s 4ms/step - loss: 0.2660 - accuracy: 0.8844 - val_loss: 0.1627 - val_accuracy: 0.9750\n",
      "Epoch 24/25\n",
      "320/320 [==============================] - 1s 3ms/step - loss: 0.2644 - accuracy: 0.8906 - val_loss: 0.1574 - val_accuracy: 0.9875\n",
      "Epoch 25/25\n",
      "320/320 [==============================] - 1s 4ms/step - loss: 0.2661 - accuracy: 0.8938 - val_loss: 0.1666 - val_accuracy: 0.9750\n",
      "total time to predict:-  27.842944622039795\n"
     ]
    }
   ],
   "source": [
    "model.compile(loss='binary_crossentropy',metrics=['accuracy'])\n",
    "start = time.time()\n",
    "history = model.fit(X_scaled,y,epochs=25,batch_size=1,validation_split=0.2)\n",
    "print('total time to predict:- ',time.time() - start)"
   ]
  },
  {
   "cell_type": "code",
   "execution_count": 71,
   "id": "c6fb7f3e",
   "metadata": {},
   "outputs": [
    {
     "data": {
      "text/plain": [
       "Text(0.5, 1.0, 'Accuracy Comparision')"
      ]
     },
     "execution_count": 71,
     "metadata": {},
     "output_type": "execute_result"
    },
    {
     "data": {
      "image/png": "[encoded data removed]",
      "text/plain": [
       "<Figure size 1500x500 with 2 Axes>"
      ]
     },
     "metadata": {},
     "output_type": "display_data"
    }
   ],
   "source": [
    "plt.figure(figsize=(15,5))\n",
    "plt.subplot(1,2,1)\n",
    "plt.plot(history.history['loss'])\n",
    "plt.plot(history.history['val_loss'])\n",
    "plt.title('Loss Comparision')\n",
    "plt.subplot(1,2,2)\n",
    "plt.plot(history.history['accuracy'])\n",
    "plt.plot(history.history['val_accuracy'])\n",
    "plt.title('Accuracy Comparision')"
   ]
  },
  {
   "cell_type": "markdown",
   "id": "670793ca",
   "metadata": {},
   "source": [
    "# Batch GD ------ batch_size=n"
   ]
  },
  {
   "cell_type": "code",
   "execution_count": 72,
   "id": "3a693654",
   "metadata": {},
   "outputs": [],
   "source": [
    "df1 = pd.read_csv('Social_Network_Ads.csv')"
   ]
  },
  {
   "cell_type": "code",
   "execution_count": 73,
   "id": "d3f83153",
   "metadata": {},
   "outputs": [
    {
     "data": {
      "text/html": [
       "<div>\n",
       "<style scoped>\n",
       "    .dataframe tbody tr th:only-of-type {\n",
       "        vertical-align: middle;\n",
       "    }\n",
       "\n",
       "    .dataframe tbody tr th {\n",
       "        vertical-align: top;\n",
       "    }\n",
       "\n",
       "    .dataframe thead th {\n",
       "        text-align: right;\n",
       "    }\n",
       "</style>\n",
       "<table border=\"1\" class=\"dataframe\">\n",
       "  <thead>\n",
       "    <tr style=\"text-align: right;\">\n",
       "      <th></th>\n",
       "      <th>User ID</th>\n",
       "      <th>Gender</th>\n",
       "      <th>Age</th>\n",
       "      <th>EstimatedSalary</th>\n",
       "      <th>Purchased</th>\n",
       "    </tr>\n",
       "  </thead>\n",
       "  <tbody>\n",
       "    <tr>\n",
       "      <th>0</th>\n",
       "      <td>15624510</td>\n",
       "      <td>Male</td>\n",
       "      <td>19</td>\n",
       "      <td>19000</td>\n",
       "      <td>0</td>\n",
       "    </tr>\n",
       "    <tr>\n",
       "      <th>1</th>\n",
       "      <td>15810944</td>\n",
       "      <td>Male</td>\n",
       "      <td>35</td>\n",
       "      <td>20000</td>\n",
       "      <td>0</td>\n",
       "    </tr>\n",
       "    <tr>\n",
       "      <th>2</th>\n",
       "      <td>15668575</td>\n",
       "      <td>Female</td>\n",
       "      <td>26</td>\n",
       "      <td>43000</td>\n",
       "      <td>0</td>\n",
       "    </tr>\n",
       "    <tr>\n",
       "      <th>3</th>\n",
       "      <td>15603246</td>\n",
       "      <td>Female</td>\n",
       "      <td>27</td>\n",
       "      <td>57000</td>\n",
       "      <td>0</td>\n",
       "    </tr>\n",
       "    <tr>\n",
       "      <th>4</th>\n",
       "      <td>15804002</td>\n",
       "      <td>Male</td>\n",
       "      <td>19</td>\n",
       "      <td>76000</td>\n",
       "      <td>0</td>\n",
       "    </tr>\n",
       "  </tbody>\n",
       "</table>\n",
       "</div>"
      ],
      "text/plain": [
       "    User ID  Gender  Age  EstimatedSalary  Purchased\n",
       "0  15624510    Male   19            19000          0\n",
       "1  15810944    Male   35            20000          0\n",
       "2  15668575  Female   26            43000          0\n",
       "3  15603246  Female   27            57000          0\n",
       "4  15804002    Male   19            76000          0"
      ]
     },
     "execution_count": 73,
     "metadata": {},
     "output_type": "execute_result"
    }
   ],
   "source": [
    "df1.head()"
   ]
  },
  {
   "cell_type": "code",
   "execution_count": 74,
   "id": "4dbb0ddc",
   "metadata": {},
   "outputs": [],
   "source": [
    "df1 = df1[['Age','EstimatedSalary','Purchased']]"
   ]
  },
  {
   "cell_type": "code",
   "execution_count": 75,
   "id": "ba8c072f",
   "metadata": {},
   "outputs": [
    {
     "data": {
      "text/html": [
       "<div>\n",
       "<style scoped>\n",
       "    .dataframe tbody tr th:only-of-type {\n",
       "        vertical-align: middle;\n",
       "    }\n",
       "\n",
       "    .dataframe tbody tr th {\n",
       "        vertical-align: top;\n",
       "    }\n",
       "\n",
       "    .dataframe thead th {\n",
       "        text-align: right;\n",
       "    }\n",
       "</style>\n",
       "<table border=\"1\" class=\"dataframe\">\n",
       "  <thead>\n",
       "    <tr style=\"text-align: right;\">\n",
       "      <th></th>\n",
       "      <th>Age</th>\n",
       "      <th>EstimatedSalary</th>\n",
       "      <th>Purchased</th>\n",
       "    </tr>\n",
       "  </thead>\n",
       "  <tbody>\n",
       "    <tr>\n",
       "      <th>0</th>\n",
       "      <td>19</td>\n",
       "      <td>19000</td>\n",
       "      <td>0</td>\n",
       "    </tr>\n",
       "    <tr>\n",
       "      <th>1</th>\n",
       "      <td>35</td>\n",
       "      <td>20000</td>\n",
       "      <td>0</td>\n",
       "    </tr>\n",
       "    <tr>\n",
       "      <th>2</th>\n",
       "      <td>26</td>\n",
       "      <td>43000</td>\n",
       "      <td>0</td>\n",
       "    </tr>\n",
       "    <tr>\n",
       "      <th>3</th>\n",
       "      <td>27</td>\n",
       "      <td>57000</td>\n",
       "      <td>0</td>\n",
       "    </tr>\n",
       "    <tr>\n",
       "      <th>4</th>\n",
       "      <td>19</td>\n",
       "      <td>76000</td>\n",
       "      <td>0</td>\n",
       "    </tr>\n",
       "  </tbody>\n",
       "</table>\n",
       "</div>"
      ],
      "text/plain": [
       "   Age  EstimatedSalary  Purchased\n",
       "0   19            19000          0\n",
       "1   35            20000          0\n",
       "2   26            43000          0\n",
       "3   27            57000          0\n",
       "4   19            76000          0"
      ]
     },
     "execution_count": 75,
     "metadata": {},
     "output_type": "execute_result"
    }
   ],
   "source": [
    "df1.head()"
   ]
  },
  {
   "cell_type": "code",
   "execution_count": 76,
   "id": "70ffbe28",
   "metadata": {},
   "outputs": [],
   "source": [
    "X = df1.iloc[:,0:2]\n",
    "y = df1.iloc[:,-1]"
   ]
  },
  {
   "cell_type": "code",
   "execution_count": 77,
   "id": "a93d1abc",
   "metadata": {},
   "outputs": [
    {
     "data": {
      "text/html": [
       "<div>\n",
       "<style scoped>\n",
       "    .dataframe tbody tr th:only-of-type {\n",
       "        vertical-align: middle;\n",
       "    }\n",
       "\n",
       "    .dataframe tbody tr th {\n",
       "        vertical-align: top;\n",
       "    }\n",
       "\n",
       "    .dataframe thead th {\n",
       "        text-align: right;\n",
       "    }\n",
       "</style>\n",
       "<table border=\"1\" class=\"dataframe\">\n",
       "  <thead>\n",
       "    <tr style=\"text-align: right;\">\n",
       "      <th></th>\n",
       "      <th>Age</th>\n",
       "      <th>EstimatedSalary</th>\n",
       "    </tr>\n",
       "  </thead>\n",
       "  <tbody>\n",
       "    <tr>\n",
       "      <th>0</th>\n",
       "      <td>19</td>\n",
       "      <td>19000</td>\n",
       "    </tr>\n",
       "    <tr>\n",
       "      <th>1</th>\n",
       "      <td>35</td>\n",
       "      <td>20000</td>\n",
       "    </tr>\n",
       "    <tr>\n",
       "      <th>2</th>\n",
       "      <td>26</td>\n",
       "      <td>43000</td>\n",
       "    </tr>\n",
       "    <tr>\n",
       "      <th>3</th>\n",
       "      <td>27</td>\n",
       "      <td>57000</td>\n",
       "    </tr>\n",
       "    <tr>\n",
       "      <th>4</th>\n",
       "      <td>19</td>\n",
       "      <td>76000</td>\n",
       "    </tr>\n",
       "    <tr>\n",
       "      <th>...</th>\n",
       "      <td>...</td>\n",
       "      <td>...</td>\n",
       "    </tr>\n",
       "    <tr>\n",
       "      <th>395</th>\n",
       "      <td>46</td>\n",
       "      <td>41000</td>\n",
       "    </tr>\n",
       "    <tr>\n",
       "      <th>396</th>\n",
       "      <td>51</td>\n",
       "      <td>23000</td>\n",
       "    </tr>\n",
       "    <tr>\n",
       "      <th>397</th>\n",
       "      <td>50</td>\n",
       "      <td>20000</td>\n",
       "    </tr>\n",
       "    <tr>\n",
       "      <th>398</th>\n",
       "      <td>36</td>\n",
       "      <td>33000</td>\n",
       "    </tr>\n",
       "    <tr>\n",
       "      <th>399</th>\n",
       "      <td>49</td>\n",
       "      <td>36000</td>\n",
       "    </tr>\n",
       "  </tbody>\n",
       "</table>\n",
       "<p>400 rows × 2 columns</p>\n",
       "</div>"
      ],
      "text/plain": [
       "     Age  EstimatedSalary\n",
       "0     19            19000\n",
       "1     35            20000\n",
       "2     26            43000\n",
       "3     27            57000\n",
       "4     19            76000\n",
       "..   ...              ...\n",
       "395   46            41000\n",
       "396   51            23000\n",
       "397   50            20000\n",
       "398   36            33000\n",
       "399   49            36000\n",
       "\n",
       "[400 rows x 2 columns]"
      ]
     },
     "execution_count": 77,
     "metadata": {},
     "output_type": "execute_result"
    }
   ],
   "source": [
    "X"
   ]
  },
  {
   "cell_type": "code",
   "execution_count": 78,
   "id": "ea74838c",
   "metadata": {},
   "outputs": [],
   "source": [
    "from sklearn.preprocessing import StandardScaler\n",
    "scaler = StandardScaler()\n",
    "\n",
    "X_scaled = scaler.fit_transform(X)"
   ]
  },
  {
   "cell_type": "code",
   "execution_count": 79,
   "id": "f56cdaa1",
   "metadata": {},
   "outputs": [
    {
     "data": {
      "text/plain": [
       "(400, 2)"
      ]
     },
     "execution_count": 79,
     "metadata": {},
     "output_type": "execute_result"
    }
   ],
   "source": [
    "X_scaled.shape"
   ]
  },
  {
   "cell_type": "code",
   "execution_count": 80,
   "id": "3a7d646a",
   "metadata": {},
   "outputs": [],
   "source": [
    "model = Sequential()\n",
    "\n",
    "model.add(Dense(10,activation='relu',input_dim=2))\n",
    "model.add(Dense(10,activation='relu'))\n",
    "model.add(Dense(1,activation='sigmoid'))"
   ]
  },
  {
   "cell_type": "code",
   "execution_count": 81,
   "id": "b6946251",
   "metadata": {},
   "outputs": [
    {
     "name": "stdout",
     "output_type": "stream",
     "text": [
      "Epoch 1/25\n",
      "1/1 [==============================] - 1s 1s/step - loss: 0.7273 - accuracy: 0.5781 - val_loss: 0.8979 - val_accuracy: 0.3625\n",
      "Epoch 2/25\n",
      "1/1 [==============================] - 0s 103ms/step - loss: 0.7204 - accuracy: 0.7125 - val_loss: 0.8940 - val_accuracy: 0.3625\n",
      "Epoch 3/25\n",
      "1/1 [==============================] - 0s 60ms/step - loss: 0.7154 - accuracy: 0.7125 - val_loss: 0.8911 - val_accuracy: 0.3625\n",
      "Epoch 4/25\n",
      "1/1 [==============================] - 0s 73ms/step - loss: 0.7110 - accuracy: 0.7125 - val_loss: 0.8888 - val_accuracy: 0.3625\n",
      "Epoch 5/25\n",
      "1/1 [==============================] - 0s 98ms/step - loss: 0.7071 - accuracy: 0.7125 - val_loss: 0.8871 - val_accuracy: 0.3625\n",
      "Epoch 6/25\n",
      "1/1 [==============================] - 0s 81ms/step - loss: 0.7035 - accuracy: 0.7125 - val_loss: 0.8856 - val_accuracy: 0.3625\n",
      "Epoch 7/25\n",
      "1/1 [==============================] - 0s 86ms/step - loss: 0.7000 - accuracy: 0.7125 - val_loss: 0.8844 - val_accuracy: 0.3625\n",
      "Epoch 8/25\n",
      "1/1 [==============================] - 0s 70ms/step - loss: 0.6967 - accuracy: 0.7125 - val_loss: 0.8834 - val_accuracy: 0.3625\n",
      "Epoch 9/25\n",
      "1/1 [==============================] - 0s 69ms/step - loss: 0.6935 - accuracy: 0.7125 - val_loss: 0.8824 - val_accuracy: 0.3625\n",
      "Epoch 10/25\n",
      "1/1 [==============================] - 0s 71ms/step - loss: 0.6904 - accuracy: 0.7125 - val_loss: 0.8816 - val_accuracy: 0.3625\n",
      "Epoch 11/25\n",
      "1/1 [==============================] - 0s 83ms/step - loss: 0.6873 - accuracy: 0.7125 - val_loss: 0.8808 - val_accuracy: 0.3625\n",
      "Epoch 12/25\n",
      "1/1 [==============================] - 0s 80ms/step - loss: 0.6841 - accuracy: 0.7125 - val_loss: 0.8801 - val_accuracy: 0.3625\n",
      "Epoch 13/25\n",
      "1/1 [==============================] - 0s 66ms/step - loss: 0.6810 - accuracy: 0.7125 - val_loss: 0.8794 - val_accuracy: 0.3625\n",
      "Epoch 14/25\n",
      "1/1 [==============================] - 0s 68ms/step - loss: 0.6779 - accuracy: 0.7125 - val_loss: 0.8788 - val_accuracy: 0.3625\n",
      "Epoch 15/25\n",
      "1/1 [==============================] - 0s 66ms/step - loss: 0.6748 - accuracy: 0.7125 - val_loss: 0.8783 - val_accuracy: 0.3625\n",
      "Epoch 16/25\n",
      "1/1 [==============================] - 0s 68ms/step - loss: 0.6718 - accuracy: 0.7125 - val_loss: 0.8777 - val_accuracy: 0.3625\n",
      "Epoch 17/25\n",
      "1/1 [==============================] - 0s 67ms/step - loss: 0.6688 - accuracy: 0.7125 - val_loss: 0.8772 - val_accuracy: 0.3625\n",
      "Epoch 18/25\n",
      "1/1 [==============================] - 0s 68ms/step - loss: 0.6659 - accuracy: 0.7125 - val_loss: 0.8766 - val_accuracy: 0.3625\n",
      "Epoch 19/25\n",
      "1/1 [==============================] - 0s 66ms/step - loss: 0.6629 - accuracy: 0.7125 - val_loss: 0.8762 - val_accuracy: 0.3625\n",
      "Epoch 20/25\n",
      "1/1 [==============================] - 0s 59ms/step - loss: 0.6601 - accuracy: 0.7125 - val_loss: 0.8756 - val_accuracy: 0.3625\n",
      "Epoch 21/25\n",
      "1/1 [==============================] - 0s 66ms/step - loss: 0.6572 - accuracy: 0.7125 - val_loss: 0.8751 - val_accuracy: 0.3625\n",
      "Epoch 22/25\n",
      "1/1 [==============================] - 0s 63ms/step - loss: 0.6544 - accuracy: 0.7125 - val_loss: 0.8746 - val_accuracy: 0.3625\n",
      "Epoch 23/25\n",
      "1/1 [==============================] - 0s 67ms/step - loss: 0.6516 - accuracy: 0.7125 - val_loss: 0.8740 - val_accuracy: 0.3625\n",
      "Epoch 24/25\n",
      "1/1 [==============================] - 0s 67ms/step - loss: 0.6488 - accuracy: 0.7125 - val_loss: 0.8734 - val_accuracy: 0.3625\n",
      "Epoch 25/25\n",
      "1/1 [==============================] - 0s 66ms/step - loss: 0.6460 - accuracy: 0.7125 - val_loss: 0.8729 - val_accuracy: 0.3625\n",
      "total time to predict:-  3.070873260498047\n"
     ]
    }
   ],
   "source": [
    "model.compile(loss='binary_crossentropy',metrics=['accuracy'])\n",
    "start = time.time()\n",
    "history = model.fit(X_scaled,y,epochs=25,batch_size=320,validation_split=0.2)\n",
    "print('total time to predict:- ',time.time() - start)"
   ]
  },
  {
   "cell_type": "code",
   "execution_count": 82,
   "id": "451756e3",
   "metadata": {},
   "outputs": [
    {
     "data": {
      "text/plain": [
       "Text(0.5, 1.0, 'Accuracy Comparision')"
      ]
     },
     "execution_count": 82,
     "metadata": {},
     "output_type": "execute_result"
    },
    {
     "data": {
      "image/png": "[encoded data removed]",
      "text/plain": [
       "<Figure size 1500x500 with 2 Axes>"
      ]
     },
     "metadata": {},
     "output_type": "display_data"
    }
   ],
   "source": [
    "plt.figure(figsize=(15,5))\n",
    "plt.subplot(1,2,1)\n",
    "plt.plot(history.history['loss'])\n",
    "plt.plot(history.history['val_loss'])\n",
    "plt.title('Loss Comparision')\n",
    "plt.subplot(1,2,2)\n",
    "plt.plot(history.history['accuracy'])\n",
    "plt.plot(history.history['val_accuracy'])\n",
    "plt.title('Accuracy Comparision')"
   ]
  },
  {
   "cell_type": "markdown",
   "id": "730b296f",
   "metadata": {},
   "source": [
    "# Mini-batch GD ------ batch_size= not 1 and not n,instead of that"
   ]
  },
  {
   "cell_type": "code",
   "execution_count": 83,
   "id": "e86eda8f",
   "metadata": {},
   "outputs": [],
   "source": [
    "df2 = pd.read_csv('Social_Network_Ads.csv')"
   ]
  },
  {
   "cell_type": "code",
   "execution_count": 84,
   "id": "5e851850",
   "metadata": {},
   "outputs": [
    {
     "data": {
      "text/html": [
       "<div>\n",
       "<style scoped>\n",
       "    .dataframe tbody tr th:only-of-type {\n",
       "        vertical-align: middle;\n",
       "    }\n",
       "\n",
       "    .dataframe tbody tr th {\n",
       "        vertical-align: top;\n",
       "    }\n",
       "\n",
       "    .dataframe thead th {\n",
       "        text-align: right;\n",
       "    }\n",
       "</style>\n",
       "<table border=\"1\" class=\"dataframe\">\n",
       "  <thead>\n",
       "    <tr style=\"text-align: right;\">\n",
       "      <th></th>\n",
       "      <th>User ID</th>\n",
       "      <th>Gender</th>\n",
       "      <th>Age</th>\n",
       "      <th>EstimatedSalary</th>\n",
       "      <th>Purchased</th>\n",
       "    </tr>\n",
       "  </thead>\n",
       "  <tbody>\n",
       "    <tr>\n",
       "      <th>0</th>\n",
       "      <td>15624510</td>\n",
       "      <td>Male</td>\n",
       "      <td>19</td>\n",
       "      <td>19000</td>\n",
       "      <td>0</td>\n",
       "    </tr>\n",
       "    <tr>\n",
       "      <th>1</th>\n",
       "      <td>15810944</td>\n",
       "      <td>Male</td>\n",
       "      <td>35</td>\n",
       "      <td>20000</td>\n",
       "      <td>0</td>\n",
       "    </tr>\n",
       "    <tr>\n",
       "      <th>2</th>\n",
       "      <td>15668575</td>\n",
       "      <td>Female</td>\n",
       "      <td>26</td>\n",
       "      <td>43000</td>\n",
       "      <td>0</td>\n",
       "    </tr>\n",
       "    <tr>\n",
       "      <th>3</th>\n",
       "      <td>15603246</td>\n",
       "      <td>Female</td>\n",
       "      <td>27</td>\n",
       "      <td>57000</td>\n",
       "      <td>0</td>\n",
       "    </tr>\n",
       "    <tr>\n",
       "      <th>4</th>\n",
       "      <td>15804002</td>\n",
       "      <td>Male</td>\n",
       "      <td>19</td>\n",
       "      <td>76000</td>\n",
       "      <td>0</td>\n",
       "    </tr>\n",
       "  </tbody>\n",
       "</table>\n",
       "</div>"
      ],
      "text/plain": [
       "    User ID  Gender  Age  EstimatedSalary  Purchased\n",
       "0  15624510    Male   19            19000          0\n",
       "1  15810944    Male   35            20000          0\n",
       "2  15668575  Female   26            43000          0\n",
       "3  15603246  Female   27            57000          0\n",
       "4  15804002    Male   19            76000          0"
      ]
     },
     "execution_count": 84,
     "metadata": {},
     "output_type": "execute_result"
    }
   ],
   "source": [
    "df2.head()"
   ]
  },
  {
   "cell_type": "code",
   "execution_count": 85,
   "id": "7f0be7d3",
   "metadata": {},
   "outputs": [],
   "source": [
    "df2 = df2[['Age','EstimatedSalary','Purchased']]"
   ]
  },
  {
   "cell_type": "code",
   "execution_count": 86,
   "id": "0e1f6909",
   "metadata": {},
   "outputs": [
    {
     "data": {
      "text/html": [
       "<div>\n",
       "<style scoped>\n",
       "    .dataframe tbody tr th:only-of-type {\n",
       "        vertical-align: middle;\n",
       "    }\n",
       "\n",
       "    .dataframe tbody tr th {\n",
       "        vertical-align: top;\n",
       "    }\n",
       "\n",
       "    .dataframe thead th {\n",
       "        text-align: right;\n",
       "    }\n",
       "</style>\n",
       "<table border=\"1\" class=\"dataframe\">\n",
       "  <thead>\n",
       "    <tr style=\"text-align: right;\">\n",
       "      <th></th>\n",
       "      <th>Age</th>\n",
       "      <th>EstimatedSalary</th>\n",
       "      <th>Purchased</th>\n",
       "    </tr>\n",
       "  </thead>\n",
       "  <tbody>\n",
       "    <tr>\n",
       "      <th>0</th>\n",
       "      <td>19</td>\n",
       "      <td>19000</td>\n",
       "      <td>0</td>\n",
       "    </tr>\n",
       "    <tr>\n",
       "      <th>1</th>\n",
       "      <td>35</td>\n",
       "      <td>20000</td>\n",
       "      <td>0</td>\n",
       "    </tr>\n",
       "    <tr>\n",
       "      <th>2</th>\n",
       "      <td>26</td>\n",
       "      <td>43000</td>\n",
       "      <td>0</td>\n",
       "    </tr>\n",
       "    <tr>\n",
       "      <th>3</th>\n",
       "      <td>27</td>\n",
       "      <td>57000</td>\n",
       "      <td>0</td>\n",
       "    </tr>\n",
       "    <tr>\n",
       "      <th>4</th>\n",
       "      <td>19</td>\n",
       "      <td>76000</td>\n",
       "      <td>0</td>\n",
       "    </tr>\n",
       "  </tbody>\n",
       "</table>\n",
       "</div>"
      ],
      "text/plain": [
       "   Age  EstimatedSalary  Purchased\n",
       "0   19            19000          0\n",
       "1   35            20000          0\n",
       "2   26            43000          0\n",
       "3   27            57000          0\n",
       "4   19            76000          0"
      ]
     },
     "execution_count": 86,
     "metadata": {},
     "output_type": "execute_result"
    }
   ],
   "source": [
    "df2.head()"
   ]
  },
  {
   "cell_type": "code",
   "execution_count": 87,
   "id": "c8d85abb",
   "metadata": {},
   "outputs": [],
   "source": [
    "X = df2.iloc[:,0:2]\n",
    "y = df2.iloc[:,-1]"
   ]
  },
  {
   "cell_type": "code",
   "execution_count": 88,
   "id": "fb4610e8",
   "metadata": {},
   "outputs": [
    {
     "data": {
      "text/html": [
       "<div>\n",
       "<style scoped>\n",
       "    .dataframe tbody tr th:only-of-type {\n",
       "        vertical-align: middle;\n",
       "    }\n",
       "\n",
       "    .dataframe tbody tr th {\n",
       "        vertical-align: top;\n",
       "    }\n",
       "\n",
       "    .dataframe thead th {\n",
       "        text-align: right;\n",
       "    }\n",
       "</style>\n",
       "<table border=\"1\" class=\"dataframe\">\n",
       "  <thead>\n",
       "    <tr style=\"text-align: right;\">\n",
       "      <th></th>\n",
       "      <th>Age</th>\n",
       "      <th>EstimatedSalary</th>\n",
       "    </tr>\n",
       "  </thead>\n",
       "  <tbody>\n",
       "    <tr>\n",
       "      <th>0</th>\n",
       "      <td>19</td>\n",
       "      <td>19000</td>\n",
       "    </tr>\n",
       "    <tr>\n",
       "      <th>1</th>\n",
       "      <td>35</td>\n",
       "      <td>20000</td>\n",
       "    </tr>\n",
       "    <tr>\n",
       "      <th>2</th>\n",
       "      <td>26</td>\n",
       "      <td>43000</td>\n",
       "    </tr>\n",
       "    <tr>\n",
       "      <th>3</th>\n",
       "      <td>27</td>\n",
       "      <td>57000</td>\n",
       "    </tr>\n",
       "    <tr>\n",
       "      <th>4</th>\n",
       "      <td>19</td>\n",
       "      <td>76000</td>\n",
       "    </tr>\n",
       "    <tr>\n",
       "      <th>...</th>\n",
       "      <td>...</td>\n",
       "      <td>...</td>\n",
       "    </tr>\n",
       "    <tr>\n",
       "      <th>395</th>\n",
       "      <td>46</td>\n",
       "      <td>41000</td>\n",
       "    </tr>\n",
       "    <tr>\n",
       "      <th>396</th>\n",
       "      <td>51</td>\n",
       "      <td>23000</td>\n",
       "    </tr>\n",
       "    <tr>\n",
       "      <th>397</th>\n",
       "      <td>50</td>\n",
       "      <td>20000</td>\n",
       "    </tr>\n",
       "    <tr>\n",
       "      <th>398</th>\n",
       "      <td>36</td>\n",
       "      <td>33000</td>\n",
       "    </tr>\n",
       "    <tr>\n",
       "      <th>399</th>\n",
       "      <td>49</td>\n",
       "      <td>36000</td>\n",
       "    </tr>\n",
       "  </tbody>\n",
       "</table>\n",
       "<p>400 rows × 2 columns</p>\n",
       "</div>"
      ],
      "text/plain": [
       "     Age  EstimatedSalary\n",
       "0     19            19000\n",
       "1     35            20000\n",
       "2     26            43000\n",
       "3     27            57000\n",
       "4     19            76000\n",
       "..   ...              ...\n",
       "395   46            41000\n",
       "396   51            23000\n",
       "397   50            20000\n",
       "398   36            33000\n",
       "399   49            36000\n",
       "\n",
       "[400 rows x 2 columns]"
      ]
     },
     "execution_count": 88,
     "metadata": {},
     "output_type": "execute_result"
    }
   ],
   "source": [
    "X"
   ]
  },
  {
   "cell_type": "code",
   "execution_count": 89,
   "id": "9d2d24a9",
   "metadata": {},
   "outputs": [],
   "source": [
    "from sklearn.preprocessing import StandardScaler\n",
    "scaler = StandardScaler()\n",
    "\n",
    "X_scaled = scaler.fit_transform(X)"
   ]
  },
  {
   "cell_type": "code",
   "execution_count": 90,
   "id": "1020d54a",
   "metadata": {},
   "outputs": [
    {
     "data": {
      "text/plain": [
       "(400, 2)"
      ]
     },
     "execution_count": 90,
     "metadata": {},
     "output_type": "execute_result"
    }
   ],
   "source": [
    "X_scaled.shape"
   ]
  },
  {
   "cell_type": "code",
   "execution_count": 91,
   "id": "8d18425b",
   "metadata": {},
   "outputs": [],
   "source": [
    "model = Sequential()\n",
    "\n",
    "model.add(Dense(10,activation='relu',input_dim=2))\n",
    "model.add(Dense(10,activation='relu'))\n",
    "model.add(Dense(1,activation='sigmoid'))"
   ]
  },
  {
   "cell_type": "code",
   "execution_count": 92,
   "id": "04466110",
   "metadata": {},
   "outputs": [
    {
     "name": "stdout",
     "output_type": "stream",
     "text": [
      "Epoch 1/25\n",
      "10/10 [==============================] - 1s 39ms/step - loss: 0.6549 - accuracy: 0.7750 - val_loss: 0.6705 - val_accuracy: 0.7500\n",
      "Epoch 2/25\n",
      "10/10 [==============================] - 0s 10ms/step - loss: 0.6181 - accuracy: 0.7969 - val_loss: 0.6643 - val_accuracy: 0.7125\n",
      "Epoch 3/25\n",
      "10/10 [==============================] - 0s 10ms/step - loss: 0.5895 - accuracy: 0.7937 - val_loss: 0.6588 - val_accuracy: 0.7000\n",
      "Epoch 4/25\n",
      "10/10 [==============================] - 0s 12ms/step - loss: 0.5638 - accuracy: 0.8125 - val_loss: 0.6533 - val_accuracy: 0.6875\n",
      "Epoch 5/25\n",
      "10/10 [==============================] - 0s 11ms/step - loss: 0.5402 - accuracy: 0.8125 - val_loss: 0.6481 - val_accuracy: 0.7000\n",
      "Epoch 6/25\n",
      "10/10 [==============================] - 0s 10ms/step - loss: 0.5183 - accuracy: 0.8188 - val_loss: 0.6436 - val_accuracy: 0.7000\n",
      "Epoch 7/25\n",
      "10/10 [==============================] - 0s 10ms/step - loss: 0.4976 - accuracy: 0.8219 - val_loss: 0.6388 - val_accuracy: 0.7000\n",
      "Epoch 8/25\n",
      "10/10 [==============================] - 0s 13ms/step - loss: 0.4776 - accuracy: 0.8281 - val_loss: 0.6329 - val_accuracy: 0.7125\n",
      "Epoch 9/25\n",
      "10/10 [==============================] - 0s 14ms/step - loss: 0.4587 - accuracy: 0.8313 - val_loss: 0.6271 - val_accuracy: 0.7125\n",
      "Epoch 10/25\n",
      "10/10 [==============================] - 0s 9ms/step - loss: 0.4415 - accuracy: 0.8406 - val_loss: 0.6205 - val_accuracy: 0.7125\n",
      "Epoch 11/25\n",
      "10/10 [==============================] - 0s 10ms/step - loss: 0.4255 - accuracy: 0.8375 - val_loss: 0.6129 - val_accuracy: 0.7125\n",
      "Epoch 12/25\n",
      "10/10 [==============================] - 0s 10ms/step - loss: 0.4110 - accuracy: 0.8438 - val_loss: 0.6065 - val_accuracy: 0.7250\n",
      "Epoch 13/25\n",
      "10/10 [==============================] - 0s 10ms/step - loss: 0.3975 - accuracy: 0.8438 - val_loss: 0.5993 - val_accuracy: 0.7375\n",
      "Epoch 14/25\n",
      "10/10 [==============================] - 0s 10ms/step - loss: 0.3859 - accuracy: 0.8438 - val_loss: 0.5919 - val_accuracy: 0.7250\n",
      "Epoch 15/25\n",
      "10/10 [==============================] - 0s 9ms/step - loss: 0.3753 - accuracy: 0.8406 - val_loss: 0.5850 - val_accuracy: 0.7250\n",
      "Epoch 16/25\n",
      "10/10 [==============================] - 0s 11ms/step - loss: 0.3656 - accuracy: 0.8438 - val_loss: 0.5777 - val_accuracy: 0.7250\n",
      "Epoch 17/25\n",
      "10/10 [==============================] - 0s 13ms/step - loss: 0.3569 - accuracy: 0.8438 - val_loss: 0.5694 - val_accuracy: 0.7250\n",
      "Epoch 18/25\n",
      "10/10 [==============================] - 0s 11ms/step - loss: 0.3491 - accuracy: 0.8406 - val_loss: 0.5613 - val_accuracy: 0.7250\n",
      "Epoch 19/25\n",
      "10/10 [==============================] - 0s 11ms/step - loss: 0.3421 - accuracy: 0.8438 - val_loss: 0.5544 - val_accuracy: 0.7250\n",
      "Epoch 20/25\n",
      "10/10 [==============================] - 0s 12ms/step - loss: 0.3359 - accuracy: 0.8469 - val_loss: 0.5459 - val_accuracy: 0.7375\n",
      "Epoch 21/25\n",
      "10/10 [==============================] - 0s 11ms/step - loss: 0.3304 - accuracy: 0.8438 - val_loss: 0.5389 - val_accuracy: 0.7375\n",
      "Epoch 22/25\n",
      "10/10 [==============================] - 0s 12ms/step - loss: 0.3254 - accuracy: 0.8469 - val_loss: 0.5314 - val_accuracy: 0.7375\n",
      "Epoch 23/25\n",
      "10/10 [==============================] - 0s 9ms/step - loss: 0.3213 - accuracy: 0.8500 - val_loss: 0.5242 - val_accuracy: 0.7375\n",
      "Epoch 24/25\n",
      "10/10 [==============================] - 0s 10ms/step - loss: 0.3172 - accuracy: 0.8531 - val_loss: 0.5183 - val_accuracy: 0.7375\n",
      "Epoch 25/25\n",
      "10/10 [==============================] - 0s 10ms/step - loss: 0.3140 - accuracy: 0.8531 - val_loss: 0.5103 - val_accuracy: 0.7375\n",
      "total time to predict:-  3.928241014480591\n"
     ]
    }
   ],
   "source": [
    "model.compile(loss='binary_crossentropy',metrics=['accuracy'])\n",
    "start = time.time()\n",
    "history = model.fit(X_scaled,y,epochs=25,batch_size=32,validation_split=0.2)\n",
    "print('total time to predict:- ',time.time() - start)"
   ]
  },
  {
   "cell_type": "code",
   "execution_count": 93,
   "id": "48595e0a",
   "metadata": {},
   "outputs": [
    {
     "data": {
      "text/plain": [
       "Text(0.5, 1.0, 'Accuracy Comparision')"
      ]
     },
     "execution_count": 93,
     "metadata": {},
     "output_type": "execute_result"
    },
    {
     "data": {
      "image/png": "[encoded data removed]",
      "text/plain": [
       "<Figure size 1500x500 with 2 Axes>"
      ]
     },
     "metadata": {},
     "output_type": "display_data"
    }
   ],
   "source": [
    "plt.figure(figsize=(15,5))\n",
    "plt.subplot(1,2,1)\n",
    "plt.plot(history.history['loss'])\n",
    "plt.plot(history.history['val_loss'])\n",
    "plt.title('Loss Comparision')\n",
    "plt.subplot(1,2,2)\n",
    "plt.plot(history.history['accuracy'])\n",
    "plt.plot(history.history['val_accuracy'])\n",
    "plt.title('Accuracy Comparision')"
   ]
  },
  {
   "cell_type": "code",
   "execution_count": null,
   "id": "04f2d86e",
   "metadata": {},
   "outputs": [],
   "source": []
  },
  {
   "cell_type": "code",
   "execution_count": null,
   "id": "4f524183",
   "metadata": {},
   "outputs": [],
   "source": []
  }
 ],
 "metadata": {
  "kernelspec": {
   "display_name": "Python 3 (ipykernel)",
   "language": "python",
   "name": "python3"
  },
  "language_info": {
   "codemirror_mode": {
    "name": "ipython",
    "version": 3
   },
   "file_extension": ".py",
   "mimetype": "text/x-python",
   "name": "python",
   "nbconvert_exporter": "python",
   "pygments_lexer": "ipython3",
   "version": "3.9.13"
  }
 },
 "nbformat": 4,
 "nbformat_minor": 5
}
