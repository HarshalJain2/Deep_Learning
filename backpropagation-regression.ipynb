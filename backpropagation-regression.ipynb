{
 "cells": [
  {
   "cell_type": "code",
   "execution_count": 1,
   "id": "f44b5712",
   "metadata": {},
   "outputs": [],
   "source": [
    "import numpy as np\n",
    "import pandas as pd"
   ]
  },
  {
   "cell_type": "code",
   "execution_count": 2,
   "id": "33f4f667",
   "metadata": {},
   "outputs": [],
   "source": [
    "df = pd.DataFrame([[8,8,4],[7,9,5],[6,10,6],[5,12,7]], columns=['cgpa', 'profile_score', 'lpa'])"
   ]
  },
  {
   "cell_type": "code",
   "execution_count": 3,
   "id": "eb04747f",
   "metadata": {},
   "outputs": [
    {
     "data": {
      "text/html": [
       "<div>\n",
       "<style scoped>\n",
       "    .dataframe tbody tr th:only-of-type {\n",
       "        vertical-align: middle;\n",
       "    }\n",
       "\n",
       "    .dataframe tbody tr th {\n",
       "        vertical-align: top;\n",
       "    }\n",
       "\n",
       "    .dataframe thead th {\n",
       "        text-align: right;\n",
       "    }\n",
       "</style>\n",
       "<table border=\"1\" class=\"dataframe\">\n",
       "  <thead>\n",
       "    <tr style=\"text-align: right;\">\n",
       "      <th></th>\n",
       "      <th>cgpa</th>\n",
       "      <th>profile_score</th>\n",
       "      <th>lpa</th>\n",
       "    </tr>\n",
       "  </thead>\n",
       "  <tbody>\n",
       "    <tr>\n",
       "      <th>0</th>\n",
       "      <td>8</td>\n",
       "      <td>8</td>\n",
       "      <td>4</td>\n",
       "    </tr>\n",
       "    <tr>\n",
       "      <th>1</th>\n",
       "      <td>7</td>\n",
       "      <td>9</td>\n",
       "      <td>5</td>\n",
       "    </tr>\n",
       "    <tr>\n",
       "      <th>2</th>\n",
       "      <td>6</td>\n",
       "      <td>10</td>\n",
       "      <td>6</td>\n",
       "    </tr>\n",
       "    <tr>\n",
       "      <th>3</th>\n",
       "      <td>5</td>\n",
       "      <td>12</td>\n",
       "      <td>7</td>\n",
       "    </tr>\n",
       "  </tbody>\n",
       "</table>\n",
       "</div>"
      ],
      "text/plain": [
       "   cgpa  profile_score  lpa\n",
       "0     8              8    4\n",
       "1     7              9    5\n",
       "2     6             10    6\n",
       "3     5             12    7"
      ]
     },
     "execution_count": 3,
     "metadata": {},
     "output_type": "execute_result"
    }
   ],
   "source": [
    "df"
   ]
  },
  {
   "cell_type": "code",
   "execution_count": 4,
   "id": "89449779",
   "metadata": {},
   "outputs": [],
   "source": [
    "def initialize_parameters(layer_dims):                    # here we have to give the architecture \n",
    "                                                          # we have to input here number of nodes in layer \n",
    "    np.random.seed(3)                 # like 2 features cgpa and profile_score (input layer) for that 2 biases (in hidden layer) \n",
    "    parameters = {}                   # 1 bias at output layer so my layer_dims in this case is [2,2,1]\n",
    "    L = len(layer_dims)         \n",
    "\n",
    "    for l in range(1, L):\n",
    "\n",
    "        parameters['W' + str(l)] = np.ones((layer_dims[l-1], layer_dims[l]))*0.1\n",
    "        parameters['b' + str(l)] = np.zeros((layer_dims[l], 1))\n",
    "      \n",
    "\n",
    "    return parameters"
   ]
  },
  {
   "cell_type": "code",
   "execution_count": 5,
   "id": "44ed6565",
   "metadata": {},
   "outputs": [
    {
     "data": {
      "text/plain": [
       "{'W1': array([[0.1, 0.1],\n",
       "        [0.1, 0.1]]),\n",
       " 'b1': array([[0.],\n",
       "        [0.]]),\n",
       " 'W2': array([[0.1],\n",
       "        [0.1]]),\n",
       " 'b2': array([[0.]])}"
      ]
     },
     "execution_count": 5,
     "metadata": {},
     "output_type": "execute_result"
    }
   ],
   "source": [
    "initialize_parameters([2,2,1])"
   ]
  },
  {
   "cell_type": "code",
   "execution_count": 6,
   "id": "3b6cc6d4",
   "metadata": {},
   "outputs": [],
   "source": [
    "def linear_forward(A_prev, W, b):    \n",
    "    Z = np.dot(W.T, A_prev) + b\n",
    "    return Z"
   ]
  },
  {
   "cell_type": "code",
   "execution_count": 7,
   "id": "ecbe2714",
   "metadata": {},
   "outputs": [],
   "source": [
    "# Forward Prop\n",
    "def L_layer_forward(X, parameters):\n",
    "    A = X\n",
    "    L = len(parameters) // 2                  # number of layers in the neural network\n",
    "\n",
    "    \n",
    "    for l in range(1, L+1):\n",
    "        A_prev = A \n",
    "        Wl = parameters['W' + str(l)]\n",
    "        bl = parameters['b' + str(l)]\n",
    "#         print(\"A\"+str(l-1)+\": \", A_prev)\n",
    "#         print(\"W\"+str(l)+\": \", Wl)\n",
    "#         print(\"b\"+str(l)+\": \", bl)\n",
    "#         print(\"--\"*20)\n",
    "\n",
    "    A = linear_forward(A_prev, Wl, bl)\n",
    "#     print(\"A\"+str(l)+\": \", A)\n",
    "#     print(\"**\"*20)\n",
    "    return A,A_prev"
   ]
  },
  {
   "cell_type": "code",
   "execution_count": 8,
   "id": "819eb332",
   "metadata": {},
   "outputs": [],
   "source": [
    "X = df[['cgpa', 'profile_score']].values[0].reshape(2,1) # Shape(no of features, no. of training example)\n",
    "y = df[['lpa']].values[0][0]\n",
    "\n",
    "# Parameter initialization\n",
    "parameters = initialize_parameters([2,2,1])\n",
    "\n",
    "y_hat,A1 = L_layer_forward(X, parameters)"
   ]
  },
  {
   "cell_type": "code",
   "execution_count": 9,
   "id": "074c9fdf",
   "metadata": {},
   "outputs": [],
   "source": [
    " y_hat = y_hat[0][0]"
   ]
  },
  {
   "cell_type": "code",
   "execution_count": 10,
   "id": "5cad7c35",
   "metadata": {},
   "outputs": [
    {
     "data": {
      "text/plain": [
       "array([[8],\n",
       "       [8]], dtype=int64)"
      ]
     },
     "execution_count": 10,
     "metadata": {},
     "output_type": "execute_result"
    }
   ],
   "source": [
    "A1"
   ]
  },
  {
   "cell_type": "code",
   "execution_count": 11,
   "id": "2741c694",
   "metadata": {},
   "outputs": [],
   "source": [
    "def update_parameters(parameters,y,y_hat,A1,X):\n",
    "    parameters['W2'][0][0] = parameters['W2'][0][0] + (0.001 * 2 * (y - y_hat)*A1[0][0])\n",
    "    parameters['W2'][1][0] = parameters['W2'][1][0] + (0.001 * 2 * (y - y_hat)*A1[1][0])\n",
    "    parameters['b2'][0][0] = parameters['W2'][1][0] + (0.001 * 2 * (y - y_hat))\n",
    "\n",
    "    parameters['W1'][0][0] = parameters['W1'][0][0] + (0.001 * 2 * (y - y_hat)*parameters['W2'][0][0]*X[0][0])\n",
    "    parameters['W1'][0][1] = parameters['W1'][0][1] + (0.001 * 2 * (y - y_hat)*parameters['W2'][0][0]*X[1][0])\n",
    "    parameters['b1'][0][0] = parameters['b1'][0][0] + (0.001 * 2 * (y - y_hat)*parameters['W2'][0][0])\n",
    "\n",
    "    parameters['W1'][1][0] = parameters['W1'][1][0] + (0.001 * 2 * (y - y_hat)*parameters['W2'][1][0]*X[0][0])\n",
    "    parameters['W1'][1][1] = parameters['W1'][1][1] + (0.001 * 2 * (y - y_hat)*parameters['W2'][1][0]*X[1][0])\n",
    "    parameters['b1'][1][0] = parameters['b1'][1][0] + (0.001 * 2 * (y - y_hat)*parameters['W2'][1][0])"
   ]
  },
  {
   "cell_type": "code",
   "execution_count": 12,
   "id": "d55352b6",
   "metadata": {},
   "outputs": [
    {
     "data": {
      "text/plain": [
       "{'W1': array([[0.10531456, 0.10531456],\n",
       "        [0.10531456, 0.10531456]]),\n",
       " 'b1': array([[0.00066432],\n",
       "        [0.00066432]]),\n",
       " 'W2': array([[0.1384],\n",
       "        [0.1384]]),\n",
       " 'b2': array([[0.1432]])}"
      ]
     },
     "execution_count": 12,
     "metadata": {},
     "output_type": "execute_result"
    }
   ],
   "source": [
    "X = df[['cgpa', 'profile_score']].values[0].reshape(2,1) # Shape(no of features, no. of training example)\n",
    "y = df[['lpa']].values[0][0]\n",
    "\n",
    "# Parameter initialization\n",
    "parameters = initialize_parameters([2,2,1])\n",
    "\n",
    "y_hat,A1 = L_layer_forward(X,parameters)\n",
    "y_hat = y_hat[0][0]\n",
    "\n",
    "update_parameters(parameters,y,y_hat,A1,X)\n",
    "\n",
    "parameters"
   ]
  },
  {
   "cell_type": "code",
   "execution_count": null,
   "id": "b86c8ba1",
   "metadata": {},
   "outputs": [],
   "source": []
  },
  {
   "cell_type": "code",
   "execution_count": 13,
   "id": "286fa892",
   "metadata": {},
   "outputs": [
    {
     "data": {
      "text/plain": [
       "{'W1': array([[0.111803  , 0.11365684],\n",
       "        [0.11219401, 0.11415956]]),\n",
       " 'b1': array([[0.00159124],\n",
       "        [0.0016471 ]]),\n",
       " 'W2': array([[0.1753936],\n",
       "        [0.1859632]]),\n",
       " 'b2': array([[0.191248]])}"
      ]
     },
     "execution_count": 13,
     "metadata": {},
     "output_type": "execute_result"
    }
   ],
   "source": [
    "X = df[['cgpa', 'profile_score']].values[1].reshape(2,1) # Shape(no of features, no. of training exaplme)\n",
    "y = df[['lpa']].values[1][0]\n",
    "\n",
    "y_hat,A1 = L_layer_forward(X,parameters)\n",
    "y_hat = y_hat[0][0]\n",
    "\n",
    "update_parameters(parameters,y,y_hat,A1,X)\n",
    "\n",
    "parameters"
   ]
  },
  {
   "cell_type": "code",
   "execution_count": 14,
   "id": "8a0a634d",
   "metadata": {},
   "outputs": [
    {
     "data": {
      "text/plain": [
       "{'W1': array([[0.11910821, 0.12583219],\n",
       "        [0.12067218, 0.12828986]]),\n",
       " 'b1': array([[0.00280877],\n",
       "        [0.00306013]]),\n",
       " 'W2': array([[0.2101547 ],\n",
       "        [0.24389837]]),\n",
       " 'b2': array([[0.24969188]])}"
      ]
     },
     "execution_count": 14,
     "metadata": {},
     "output_type": "execute_result"
    }
   ],
   "source": [
    "X = df[['cgpa', 'profile_score']].values[2].reshape(2,1) # Shape(no of features, no. of training exaplme)\n",
    "y = df[['lpa']].values[2][0]\n",
    "\n",
    "y_hat,A1 = L_layer_forward(X,parameters)\n",
    "y_hat = y_hat[0][0]\n",
    "\n",
    "update_parameters(parameters,y,y_hat,A1,X)\n",
    "\n",
    "parameters"
   ]
  },
  {
   "cell_type": "code",
   "execution_count": 15,
   "id": "d8b98f55",
   "metadata": {},
   "outputs": [
    {
     "data": {
      "text/plain": [
       "{'W1': array([[0.1257041 , 0.14166232],\n",
       "        [0.12928005, 0.14894873]]),\n",
       " 'b1': array([[0.00412795],\n",
       "        [0.0047817 ]]),\n",
       " 'W2': array([[0.23788224],\n",
       "        [0.31044447]]),\n",
       " 'b2': array([[0.31598998]])}"
      ]
     },
     "execution_count": 15,
     "metadata": {},
     "output_type": "execute_result"
    }
   ],
   "source": [
    "X = df[['cgpa', 'profile_score']].values[3].reshape(2,1) # Shape(no of features, no. of training exaplme)\n",
    "y = df[['lpa']].values[3][0]\n",
    "\n",
    "y_hat,A1 = L_layer_forward(X,parameters)\n",
    "y_hat = y_hat[0][0]\n",
    "\n",
    "update_parameters(parameters,y,y_hat,A1,X)\n",
    "\n",
    "parameters"
   ]
  },
  {
   "cell_type": "code",
   "execution_count": 16,
   "id": "62f0e634",
   "metadata": {
    "scrolled": false
   },
   "outputs": [
    {
     "name": "stdout",
     "output_type": "stream",
     "text": [
      "Epoch -  1 Loss -  7.205413203742441\n",
      "Epoch -  2 Loss -  1.0733686445728834\n",
      "Epoch -  3 Loss -  0.9583801635331537\n",
      "Epoch -  4 Loss -  0.9721506091746084\n",
      "Epoch -  5 Loss -  0.9426118575983916\n",
      "Epoch -  6 Loss -  0.9001561889946194\n",
      "Epoch -  7 Loss -  0.8562395613931871\n",
      "Epoch -  8 Loss -  0.813754659635432\n",
      "Epoch -  9 Loss -  0.7733115003785209\n",
      "Epoch -  10 Loss -  0.7349655914480541\n",
      "Epoch -  11 Loss -  0.6986440529883167\n",
      "Epoch -  12 Loss -  0.6642479287554847\n",
      "Epoch -  13 Loss -  0.6316764162404747\n",
      "Epoch -  14 Loss -  0.6008324193552801\n",
      "Epoch -  15 Loss -  0.5716236511675292\n",
      "Epoch -  16 Loss -  0.5439626859081297\n",
      "Epoch -  17 Loss -  0.5177667714541684\n",
      "Epoch -  18 Loss -  0.49295759539182915\n",
      "Epoch -  19 Loss -  0.4694610501917268\n",
      "Epoch -  20 Loss -  0.44720700781999134\n",
      "Epoch -  21 Loss -  0.42612910572999907\n",
      "Epoch -  22 Loss -  0.4061645442068723\n",
      "Epoch -  23 Loss -  0.3872538945923119\n",
      "Epoch -  24 Loss -  0.3693409178362933\n",
      "Epoch -  25 Loss -  0.35237239282656535\n"
     ]
    },
    {
     "data": {
      "text/plain": [
       "{'W1': array([[0.10591591, 0.1826465 ],\n",
       "        [0.0626126 , 0.23204102]]),\n",
       " 'b1': array([[0.00506125],\n",
       "        [0.00485239]]),\n",
       " 'W2': array([[0.06641936],\n",
       "        [0.49043874]]),\n",
       " 'b2': array([[0.49135158]])}"
      ]
     },
     "execution_count": 16,
     "metadata": {},
     "output_type": "execute_result"
    }
   ],
   "source": [
    "# epochs implementation\n",
    "\n",
    "parameters = initialize_parameters([2,2,1])\n",
    "epochs = 25\n",
    "\n",
    "for i in range(epochs):\n",
    "\n",
    "  Loss = []\n",
    "\n",
    "  for j in range(df.shape[0]):\n",
    "\n",
    "    X = df[['cgpa', 'profile_score']].values[j].reshape(2,1) # Shape(no of features, no. of training example)\n",
    "    y = df[['lpa']].values[j][0]\n",
    "\n",
    "    # Parameter initialization\n",
    "\n",
    "\n",
    "    y_hat,A1 = L_layer_forward(X,parameters)\n",
    "    y_hat = y_hat[0][0]\n",
    "\n",
    "    update_parameters(parameters,y,y_hat,A1,X)\n",
    "\n",
    "    Loss.append((y-y_hat)**2)\n",
    "\n",
    "  print('Epoch - ',i+1,'Loss - ',np.array(Loss).mean())\n",
    "\n",
    "parameters"
   ]
  },
  {
   "cell_type": "code",
   "execution_count": null,
   "id": "085065bc",
   "metadata": {},
   "outputs": [],
   "source": []
  },
  {
   "cell_type": "markdown",
   "id": "81f9f359",
   "metadata": {},
   "source": [
    "# Using KERAS LIBLARY"
   ]
  },
  {
   "cell_type": "code",
   "execution_count": 17,
   "id": "4369d9c2",
   "metadata": {},
   "outputs": [],
   "source": [
    "import tensorflow\n",
    "from tensorflow import keras\n",
    "from keras import Sequential\n",
    "from keras.layers import Dense"
   ]
  },
  {
   "cell_type": "code",
   "execution_count": 18,
   "id": "104e4050",
   "metadata": {},
   "outputs": [],
   "source": [
    "model=Sequential()\n",
    "model.add(Dense(2,activation='linear',input_dim=2))\n",
    "model.add(Dense(1, activation='linear'))"
   ]
  },
  {
   "cell_type": "code",
   "execution_count": 19,
   "id": "0133486c",
   "metadata": {},
   "outputs": [
    {
     "name": "stdout",
     "output_type": "stream",
     "text": [
      "Model: \"sequential\"\n",
      "_________________________________________________________________\n",
      " Layer (type)                Output Shape              Param #   \n",
      "=================================================================\n",
      " dense (Dense)               (None, 2)                 6         \n",
      "                                                                 \n",
      " dense_1 (Dense)             (None, 1)                 3         \n",
      "                                                                 \n",
      "=================================================================\n",
      "Total params: 9 (36.00 Byte)\n",
      "Trainable params: 9 (36.00 Byte)\n",
      "Non-trainable params: 0 (0.00 Byte)\n",
      "_________________________________________________________________\n"
     ]
    }
   ],
   "source": [
    "model.summary()"
   ]
  },
  {
   "cell_type": "code",
   "execution_count": 20,
   "id": "efb4a7b7",
   "metadata": {},
   "outputs": [
    {
     "data": {
      "text/plain": [
       "[array([[-0.14074111, -0.38213682],\n",
       "        [-0.03082371,  0.45004857]], dtype=float32),\n",
       " array([0., 0.], dtype=float32),\n",
       " array([[ 1.0101999],\n",
       "        [-1.1842897]], dtype=float32),\n",
       " array([0.], dtype=float32)]"
      ]
     },
     "execution_count": 20,
     "metadata": {},
     "output_type": "execute_result"
    }
   ],
   "source": [
    "model.get_weights()"
   ]
  },
  {
   "cell_type": "code",
   "execution_count": 21,
   "id": "1020ef5c",
   "metadata": {},
   "outputs": [],
   "source": [
    "new_weights=[np.array([[0.1 ,0.1],[0.1 ,0.1]]),        # for initial weight keras select randomly but we choose this bcz in manual cal we choose this weights and bias\n",
    "             np.array([0., 0.]),\n",
    "             np.array([[0.1],[0.1]]),\n",
    "             np.array([0.])]                    # for similarity pupose\n"
   ]
  },
  {
   "cell_type": "code",
   "execution_count": 22,
   "id": "31069213",
   "metadata": {},
   "outputs": [],
   "source": [
    "model.set_weights(new_weights)"
   ]
  },
  {
   "cell_type": "code",
   "execution_count": 23,
   "id": "f0f811c4",
   "metadata": {},
   "outputs": [
    {
     "data": {
      "text/plain": [
       "[array([[0.1, 0.1],\n",
       "        [0.1, 0.1]], dtype=float32),\n",
       " array([0., 0.], dtype=float32),\n",
       " array([[0.1],\n",
       "        [0.1]], dtype=float32),\n",
       " array([0.], dtype=float32)]"
      ]
     },
     "execution_count": 23,
     "metadata": {},
     "output_type": "execute_result"
    }
   ],
   "source": [
    "model.get_weights()"
   ]
  },
  {
   "cell_type": "code",
   "execution_count": 24,
   "id": "dd35ed5b",
   "metadata": {},
   "outputs": [],
   "source": [
    "optimizer=keras.optimizers.Adam(learning_rate=0.001)\n",
    "model.compile(loss='mean_squared_error',optimizer=optimizer)"
   ]
  },
  {
   "cell_type": "code",
   "execution_count": 31,
   "id": "51cf2fb2",
   "metadata": {},
   "outputs": [
    {
     "name": "stdout",
     "output_type": "stream",
     "text": [
      "Epoch 1/75\n",
      "4/4 [==============================] - 0s 6ms/step - loss: 1.6221\n",
      "Epoch 2/75\n",
      "4/4 [==============================] - 0s 4ms/step - loss: 1.6084\n",
      "Epoch 3/75\n",
      "4/4 [==============================] - 0s 6ms/step - loss: 1.6026\n",
      "Epoch 4/75\n",
      "4/4 [==============================] - 0s 5ms/step - loss: 1.5960\n",
      "Epoch 5/75\n",
      "4/4 [==============================] - 0s 5ms/step - loss: 1.6000\n",
      "Epoch 6/75\n",
      "4/4 [==============================] - 0s 3ms/step - loss: 1.5855\n",
      "Epoch 7/75\n",
      "4/4 [==============================] - 0s 5ms/step - loss: 1.5787\n",
      "Epoch 8/75\n",
      "4/4 [==============================] - 0s 5ms/step - loss: 1.5725\n",
      "Epoch 9/75\n",
      "4/4 [==============================] - 0s 5ms/step - loss: 1.5657\n",
      "Epoch 10/75\n",
      "4/4 [==============================] - 0s 5ms/step - loss: 1.5615\n",
      "Epoch 11/75\n",
      "4/4 [==============================] - 0s 5ms/step - loss: 1.5566\n",
      "Epoch 12/75\n",
      "4/4 [==============================] - 0s 5ms/step - loss: 1.5502\n",
      "Epoch 13/75\n",
      "4/4 [==============================] - 0s 4ms/step - loss: 1.5494\n",
      "Epoch 14/75\n",
      "4/4 [==============================] - 0s 3ms/step - loss: 1.5412\n",
      "Epoch 15/75\n",
      "4/4 [==============================] - 0s 2ms/step - loss: 1.5448\n",
      "Epoch 16/75\n",
      "4/4 [==============================] - 0s 4ms/step - loss: 1.5311\n",
      "Epoch 17/75\n",
      "4/4 [==============================] - 0s 6ms/step - loss: 1.5271\n",
      "Epoch 18/75\n",
      "4/4 [==============================] - 0s 4ms/step - loss: 1.5269\n",
      "Epoch 19/75\n",
      "4/4 [==============================] - 0s 5ms/step - loss: 1.5201\n",
      "Epoch 20/75\n",
      "4/4 [==============================] - 0s 4ms/step - loss: 1.5180\n",
      "Epoch 21/75\n",
      "4/4 [==============================] - 0s 4ms/step - loss: 1.5117\n",
      "Epoch 22/75\n",
      "4/4 [==============================] - 0s 6ms/step - loss: 1.5056\n",
      "Epoch 23/75\n",
      "4/4 [==============================] - 0s 2ms/step - loss: 1.5030\n",
      "Epoch 24/75\n",
      "4/4 [==============================] - 0s 3ms/step - loss: 1.4967\n",
      "Epoch 25/75\n",
      "4/4 [==============================] - 0s 3ms/step - loss: 1.4962\n",
      "Epoch 26/75\n",
      "4/4 [==============================] - 0s 6ms/step - loss: 1.4907\n",
      "Epoch 27/75\n",
      "4/4 [==============================] - 0s 3ms/step - loss: 1.4849\n",
      "Epoch 28/75\n",
      "4/4 [==============================] - 0s 4ms/step - loss: 1.4822\n",
      "Epoch 29/75\n",
      "4/4 [==============================] - 0s 3ms/step - loss: 1.4781\n",
      "Epoch 30/75\n",
      "4/4 [==============================] - 0s 6ms/step - loss: 1.4719\n",
      "Epoch 31/75\n",
      "4/4 [==============================] - 0s 6ms/step - loss: 1.4778\n",
      "Epoch 32/75\n",
      "4/4 [==============================] - 0s 5ms/step - loss: 1.4694\n",
      "Epoch 33/75\n",
      "4/4 [==============================] - 0s 4ms/step - loss: 1.4644\n",
      "Epoch 34/75\n",
      "4/4 [==============================] - 0s 6ms/step - loss: 1.4581\n",
      "Epoch 35/75\n",
      "4/4 [==============================] - 0s 5ms/step - loss: 1.4543\n",
      "Epoch 36/75\n",
      "4/4 [==============================] - 0s 3ms/step - loss: 1.4497\n",
      "Epoch 37/75\n",
      "4/4 [==============================] - 0s 3ms/step - loss: 1.4459\n",
      "Epoch 38/75\n",
      "4/4 [==============================] - 0s 4ms/step - loss: 1.4411\n",
      "Epoch 39/75\n",
      "4/4 [==============================] - 0s 5ms/step - loss: 1.4424\n",
      "Epoch 40/75\n",
      "4/4 [==============================] - 0s 2ms/step - loss: 1.4358\n",
      "Epoch 41/75\n",
      "4/4 [==============================] - 0s 5ms/step - loss: 1.4290\n",
      "Epoch 42/75\n",
      "4/4 [==============================] - 0s 3ms/step - loss: 1.4253\n",
      "Epoch 43/75\n",
      "4/4 [==============================] - 0s 4ms/step - loss: 1.4217\n",
      "Epoch 44/75\n",
      "4/4 [==============================] - 0s 6ms/step - loss: 1.4166\n",
      "Epoch 45/75\n",
      "4/4 [==============================] - 0s 6ms/step - loss: 1.4175\n",
      "Epoch 46/75\n",
      "4/4 [==============================] - 0s 6ms/step - loss: 1.4112\n",
      "Epoch 47/75\n",
      "4/4 [==============================] - 0s 6ms/step - loss: 1.4070\n",
      "Epoch 48/75\n",
      "4/4 [==============================] - 0s 6ms/step - loss: 1.4049\n",
      "Epoch 49/75\n",
      "4/4 [==============================] - 0s 5ms/step - loss: 1.3977\n",
      "Epoch 50/75\n",
      "4/4 [==============================] - 0s 5ms/step - loss: 1.3935\n",
      "Epoch 51/75\n",
      "4/4 [==============================] - 0s 5ms/step - loss: 1.3883\n",
      "Epoch 52/75\n",
      "4/4 [==============================] - 0s 6ms/step - loss: 1.3843\n",
      "Epoch 53/75\n",
      "4/4 [==============================] - 0s 2ms/step - loss: 1.3818\n",
      "Epoch 54/75\n",
      "4/4 [==============================] - 0s 3ms/step - loss: 1.3770\n",
      "Epoch 55/75\n",
      "4/4 [==============================] - 0s 5ms/step - loss: 1.3726\n",
      "Epoch 56/75\n",
      "4/4 [==============================] - 0s 3ms/step - loss: 1.3705\n",
      "Epoch 57/75\n",
      "4/4 [==============================] - 0s 6ms/step - loss: 1.3647\n",
      "Epoch 58/75\n",
      "4/4 [==============================] - 0s 6ms/step - loss: 1.3610\n",
      "Epoch 59/75\n",
      "4/4 [==============================] - 0s 3ms/step - loss: 1.3592\n",
      "Epoch 60/75\n",
      "4/4 [==============================] - 0s 6ms/step - loss: 1.3526\n",
      "Epoch 61/75\n",
      "4/4 [==============================] - 0s 6ms/step - loss: 1.3506\n",
      "Epoch 62/75\n",
      "4/4 [==============================] - 0s 5ms/step - loss: 1.3445\n",
      "Epoch 63/75\n",
      "4/4 [==============================] - 0s 5ms/step - loss: 1.3402\n",
      "Epoch 64/75\n",
      "4/4 [==============================] - 0s 3ms/step - loss: 1.3374\n",
      "Epoch 65/75\n",
      "4/4 [==============================] - 0s 3ms/step - loss: 1.3338\n",
      "Epoch 66/75\n",
      "4/4 [==============================] - 0s 6ms/step - loss: 1.3289\n",
      "Epoch 67/75\n",
      "4/4 [==============================] - 0s 5ms/step - loss: 1.3243\n",
      "Epoch 68/75\n",
      "4/4 [==============================] - 0s 3ms/step - loss: 1.3221\n",
      "Epoch 69/75\n",
      "4/4 [==============================] - 0s 2ms/step - loss: 1.3191\n",
      "Epoch 70/75\n",
      "4/4 [==============================] - 0s 5ms/step - loss: 1.3166\n",
      "Epoch 71/75\n",
      "4/4 [==============================] - 0s 6ms/step - loss: 1.3129\n",
      "Epoch 72/75\n",
      "4/4 [==============================] - 0s 6ms/step - loss: 1.3060\n",
      "Epoch 73/75\n",
      "4/4 [==============================] - 0s 3ms/step - loss: 1.3016\n",
      "Epoch 74/75\n",
      "4/4 [==============================] - 0s 3ms/step - loss: 1.2991\n",
      "Epoch 75/75\n",
      "4/4 [==============================] - 0s 6ms/step - loss: 1.2928\n"
     ]
    },
    {
     "data": {
      "text/plain": [
       "<keras.src.callbacks.History at 0x24479057430>"
      ]
     },
     "execution_count": 31,
     "metadata": {},
     "output_type": "execute_result"
    }
   ],
   "source": [
    "model.fit(df.iloc[:,0:-1].values,df['lpa'].values,epochs=75,verbose=1,batch_size=1)"
   ]
  },
  {
   "cell_type": "code",
   "execution_count": null,
   "id": "ad8a7f9a",
   "metadata": {},
   "outputs": [],
   "source": []
  },
  {
   "cell_type": "code",
   "execution_count": null,
   "id": "837efa0c",
   "metadata": {},
   "outputs": [],
   "source": []
  },
  {
   "cell_type": "markdown",
   "id": "0739938d",
   "metadata": {},
   "source": [
    "# Using Model Random weights value- but Run one at a time like use model initialize weight otherwise updated weight"
   ]
  },
  {
   "cell_type": "code",
   "execution_count": 26,
   "id": "ae7f2913",
   "metadata": {},
   "outputs": [],
   "source": [
    "model=Sequential()\n",
    "model.add(Dense(2,activation='linear',input_dim=2))\n",
    "model.add(Dense(1, activation='linear'))"
   ]
  },
  {
   "cell_type": "code",
   "execution_count": 27,
   "id": "b3e42552",
   "metadata": {},
   "outputs": [
    {
     "name": "stdout",
     "output_type": "stream",
     "text": [
      "Model: \"sequential_1\"\n",
      "_________________________________________________________________\n",
      " Layer (type)                Output Shape              Param #   \n",
      "=================================================================\n",
      " dense_2 (Dense)             (None, 2)                 6         \n",
      "                                                                 \n",
      " dense_3 (Dense)             (None, 1)                 3         \n",
      "                                                                 \n",
      "=================================================================\n",
      "Total params: 9 (36.00 Byte)\n",
      "Trainable params: 9 (36.00 Byte)\n",
      "Non-trainable params: 0 (0.00 Byte)\n",
      "_________________________________________________________________\n"
     ]
    }
   ],
   "source": [
    "model.summary()"
   ]
  },
  {
   "cell_type": "code",
   "execution_count": 28,
   "id": "a9feff5d",
   "metadata": {},
   "outputs": [
    {
     "data": {
      "text/plain": [
       "[array([[ 0.01571524, -0.06828582],\n",
       "        [-0.30865538,  0.04920208]], dtype=float32),\n",
       " array([0., 0.], dtype=float32),\n",
       " array([[1.2494186],\n",
       "        [1.0717083]], dtype=float32),\n",
       " array([0.], dtype=float32)]"
      ]
     },
     "execution_count": 28,
     "metadata": {},
     "output_type": "execute_result"
    }
   ],
   "source": [
    "model.get_weights()"
   ]
  },
  {
   "cell_type": "code",
   "execution_count": 29,
   "id": "b41ec82b",
   "metadata": {},
   "outputs": [],
   "source": [
    "optimizer=keras.optimizers.Adam(learning_rate=0.001)\n",
    "model.compile(loss='mean_squared_error',optimizer=optimizer)"
   ]
  },
  {
   "cell_type": "code",
   "execution_count": 32,
   "id": "774ed04c",
   "metadata": {},
   "outputs": [
    {
     "name": "stdout",
     "output_type": "stream",
     "text": [
      "Epoch 1/100\n",
      "4/4 [==============================] - 0s 5ms/step - loss: 1.2900\n",
      "Epoch 2/100\n",
      "4/4 [==============================] - 0s 4ms/step - loss: 1.2840\n",
      "Epoch 3/100\n",
      "4/4 [==============================] - 0s 5ms/step - loss: 1.2830\n",
      "Epoch 4/100\n",
      "4/4 [==============================] - 0s 5ms/step - loss: 1.2779\n",
      "Epoch 5/100\n",
      "4/4 [==============================] - 0s 5ms/step - loss: 1.2740\n",
      "Epoch 6/100\n",
      "4/4 [==============================] - 0s 6ms/step - loss: 1.2675\n",
      "Epoch 7/100\n",
      "4/4 [==============================] - 0s 4ms/step - loss: 1.2675\n",
      "Epoch 8/100\n",
      "4/4 [==============================] - 0s 5ms/step - loss: 1.2647\n",
      "Epoch 9/100\n",
      "4/4 [==============================] - 0s 5ms/step - loss: 1.2576\n",
      "Epoch 10/100\n",
      "4/4 [==============================] - 0s 5ms/step - loss: 1.2561\n",
      "Epoch 11/100\n",
      "4/4 [==============================] - 0s 2ms/step - loss: 1.2474\n",
      "Epoch 12/100\n",
      "4/4 [==============================] - 0s 5ms/step - loss: 1.2444\n",
      "Epoch 13/100\n",
      "4/4 [==============================] - 0s 5ms/step - loss: 1.2392\n",
      "Epoch 14/100\n",
      "4/4 [==============================] - 0s 3ms/step - loss: 1.2356\n",
      "Epoch 15/100\n",
      "4/4 [==============================] - 0s 5ms/step - loss: 1.2320\n",
      "Epoch 16/100\n",
      "4/4 [==============================] - 0s 7ms/step - loss: 1.2294\n",
      "Epoch 17/100\n",
      "4/4 [==============================] - 0s 5ms/step - loss: 1.2253\n",
      "Epoch 18/100\n",
      "4/4 [==============================] - 0s 5ms/step - loss: 1.2207\n",
      "Epoch 19/100\n",
      "4/4 [==============================] - 0s 6ms/step - loss: 1.2168\n",
      "Epoch 20/100\n",
      "4/4 [==============================] - 0s 5ms/step - loss: 1.2122\n",
      "Epoch 21/100\n",
      "4/4 [==============================] - 0s 2ms/step - loss: 1.2109\n",
      "Epoch 22/100\n",
      "4/4 [==============================] - 0s 3ms/step - loss: 1.2037\n",
      "Epoch 23/100\n",
      "4/4 [==============================] - 0s 5ms/step - loss: 1.1998\n",
      "Epoch 24/100\n",
      "4/4 [==============================] - 0s 3ms/step - loss: 1.1973\n",
      "Epoch 25/100\n",
      "4/4 [==============================] - 0s 5ms/step - loss: 1.1943\n",
      "Epoch 26/100\n",
      "4/4 [==============================] - 0s 6ms/step - loss: 1.1929\n",
      "Epoch 27/100\n",
      "4/4 [==============================] - 0s 3ms/step - loss: 1.1852\n",
      "Epoch 28/100\n",
      "4/4 [==============================] - 0s 6ms/step - loss: 1.1822\n",
      "Epoch 29/100\n",
      "4/4 [==============================] - 0s 6ms/step - loss: 1.1779\n",
      "Epoch 30/100\n",
      "4/4 [==============================] - 0s 5ms/step - loss: 1.1719\n",
      "Epoch 31/100\n",
      "4/4 [==============================] - 0s 5ms/step - loss: 1.1687\n",
      "Epoch 32/100\n",
      "4/4 [==============================] - 0s 8ms/step - loss: 1.1669\n",
      "Epoch 33/100\n",
      "4/4 [==============================] - 0s 7ms/step - loss: 1.1593\n",
      "Epoch 34/100\n",
      "4/4 [==============================] - 0s 6ms/step - loss: 1.1556\n",
      "Epoch 35/100\n",
      "4/4 [==============================] - 0s 5ms/step - loss: 1.1527\n",
      "Epoch 36/100\n",
      "4/4 [==============================] - 0s 6ms/step - loss: 1.1521\n",
      "Epoch 37/100\n",
      "4/4 [==============================] - 0s 2ms/step - loss: 1.1473\n",
      "Epoch 38/100\n",
      "4/4 [==============================] - 0s 5ms/step - loss: 1.1417\n",
      "Epoch 39/100\n",
      "4/4 [==============================] - 0s 5ms/step - loss: 1.1419\n",
      "Epoch 40/100\n",
      "4/4 [==============================] - 0s 6ms/step - loss: 1.1386\n",
      "Epoch 41/100\n",
      "4/4 [==============================] - 0s 5ms/step - loss: 1.1294\n",
      "Epoch 42/100\n",
      "4/4 [==============================] - 0s 5ms/step - loss: 1.1263\n",
      "Epoch 43/100\n",
      "4/4 [==============================] - 0s 5ms/step - loss: 1.1211\n",
      "Epoch 44/100\n",
      "4/4 [==============================] - 0s 5ms/step - loss: 1.1160\n",
      "Epoch 45/100\n",
      "4/4 [==============================] - 0s 6ms/step - loss: 1.1132\n",
      "Epoch 46/100\n",
      "4/4 [==============================] - 0s 4ms/step - loss: 1.1092\n",
      "Epoch 47/100\n",
      "4/4 [==============================] - 0s 6ms/step - loss: 1.1084\n",
      "Epoch 48/100\n",
      "4/4 [==============================] - 0s 5ms/step - loss: 1.1006\n",
      "Epoch 49/100\n",
      "4/4 [==============================] - 0s 5ms/step - loss: 1.0968\n",
      "Epoch 50/100\n",
      "4/4 [==============================] - 0s 5ms/step - loss: 1.0926\n",
      "Epoch 51/100\n",
      "4/4 [==============================] - 0s 6ms/step - loss: 1.0912\n",
      "Epoch 52/100\n",
      "4/4 [==============================] - 0s 5ms/step - loss: 1.0845\n",
      "Epoch 53/100\n",
      "4/4 [==============================] - 0s 2ms/step - loss: 1.0805\n",
      "Epoch 54/100\n",
      "4/4 [==============================] - 0s 6ms/step - loss: 1.0792\n",
      "Epoch 55/100\n",
      "4/4 [==============================] - 0s 5ms/step - loss: 1.0774\n",
      "Epoch 56/100\n",
      "4/4 [==============================] - 0s 6ms/step - loss: 1.0712\n",
      "Epoch 57/100\n",
      "4/4 [==============================] - 0s 3ms/step - loss: 1.0693\n",
      "Epoch 58/100\n",
      "4/4 [==============================] - 0s 6ms/step - loss: 1.0626\n",
      "Epoch 59/100\n",
      "4/4 [==============================] - 0s 1ms/step - loss: 1.0585\n",
      "Epoch 60/100\n",
      "4/4 [==============================] - 0s 6ms/step - loss: 1.0575\n",
      "Epoch 61/100\n",
      "4/4 [==============================] - 0s 3ms/step - loss: 1.0523\n",
      "Epoch 62/100\n",
      "4/4 [==============================] - 0s 6ms/step - loss: 1.0451\n",
      "Epoch 63/100\n",
      "4/4 [==============================] - 0s 5ms/step - loss: 1.0437\n",
      "Epoch 64/100\n",
      "4/4 [==============================] - 0s 6ms/step - loss: 1.0390\n",
      "Epoch 65/100\n",
      "4/4 [==============================] - 0s 5ms/step - loss: 1.0361\n",
      "Epoch 66/100\n",
      "4/4 [==============================] - 0s 5ms/step - loss: 1.0356\n",
      "Epoch 67/100\n",
      "4/4 [==============================] - 0s 5ms/step - loss: 1.0278\n",
      "Epoch 68/100\n",
      "4/4 [==============================] - 0s 6ms/step - loss: 1.0288\n",
      "Epoch 69/100\n",
      "4/4 [==============================] - 0s 5ms/step - loss: 1.0185\n",
      "Epoch 70/100\n",
      "4/4 [==============================] - 0s 6ms/step - loss: 1.0166\n",
      "Epoch 71/100\n",
      "4/4 [==============================] - 0s 9ms/step - loss: 1.0112\n",
      "Epoch 72/100\n",
      "4/4 [==============================] - 0s 8ms/step - loss: 1.0088\n",
      "Epoch 73/100\n",
      "4/4 [==============================] - 0s 8ms/step - loss: 1.0035\n",
      "Epoch 74/100\n",
      "4/4 [==============================] - 0s 6ms/step - loss: 1.0051\n",
      "Epoch 75/100\n",
      "4/4 [==============================] - 0s 5ms/step - loss: 0.9969\n",
      "Epoch 76/100\n",
      "4/4 [==============================] - 0s 6ms/step - loss: 0.9932\n",
      "Epoch 77/100\n",
      "4/4 [==============================] - 0s 6ms/step - loss: 0.9957\n",
      "Epoch 78/100\n",
      "4/4 [==============================] - 0s 3ms/step - loss: 0.9866\n",
      "Epoch 79/100\n",
      "4/4 [==============================] - 0s 8ms/step - loss: 0.9846\n",
      "Epoch 80/100\n",
      "4/4 [==============================] - 0s 5ms/step - loss: 0.9797\n",
      "Epoch 81/100\n",
      "4/4 [==============================] - 0s 4ms/step - loss: 0.9748\n",
      "Epoch 82/100\n",
      "4/4 [==============================] - 0s 3ms/step - loss: 0.9699\n",
      "Epoch 83/100\n",
      "4/4 [==============================] - 0s 3ms/step - loss: 0.9696\n",
      "Epoch 84/100\n",
      "4/4 [==============================] - 0s 9ms/step - loss: 0.9644\n",
      "Epoch 85/100\n",
      "4/4 [==============================] - 0s 4ms/step - loss: 0.9586\n",
      "Epoch 86/100\n",
      "4/4 [==============================] - 0s 6ms/step - loss: 0.9540\n",
      "Epoch 87/100\n",
      "4/4 [==============================] - 0s 5ms/step - loss: 0.9509\n",
      "Epoch 88/100\n",
      "4/4 [==============================] - 0s 6ms/step - loss: 0.9492\n",
      "Epoch 89/100\n",
      "4/4 [==============================] - 0s 5ms/step - loss: 0.9429\n",
      "Epoch 90/100\n",
      "4/4 [==============================] - 0s 6ms/step - loss: 0.9428\n",
      "Epoch 91/100\n",
      "4/4 [==============================] - 0s 5ms/step - loss: 0.9369\n",
      "Epoch 92/100\n",
      "4/4 [==============================] - 0s 5ms/step - loss: 0.9336\n",
      "Epoch 93/100\n",
      "4/4 [==============================] - 0s 7ms/step - loss: 0.9277\n",
      "Epoch 94/100\n",
      "4/4 [==============================] - 0s 5ms/step - loss: 0.9278\n",
      "Epoch 95/100\n",
      "4/4 [==============================] - 0s 6ms/step - loss: 0.9256\n",
      "Epoch 96/100\n",
      "4/4 [==============================] - 0s 7ms/step - loss: 0.9182\n",
      "Epoch 97/100\n",
      "4/4 [==============================] - 0s 6ms/step - loss: 0.9156\n",
      "Epoch 98/100\n",
      "4/4 [==============================] - 0s 6ms/step - loss: 0.9107\n",
      "Epoch 99/100\n",
      "4/4 [==============================] - 0s 4ms/step - loss: 0.9068\n",
      "Epoch 100/100\n",
      "4/4 [==============================] - 0s 4ms/step - loss: 0.9030\n"
     ]
    },
    {
     "data": {
      "text/plain": [
       "<keras.src.callbacks.History at 0x2441ddf9b20>"
      ]
     },
     "execution_count": 32,
     "metadata": {},
     "output_type": "execute_result"
    }
   ],
   "source": [
    "model.fit(df.iloc[:,0:-1].values,df['lpa'].values,epochs=100,verbose=1,batch_size=1)"
   ]
  },
  {
   "cell_type": "code",
   "execution_count": null,
   "id": "0da74151",
   "metadata": {},
   "outputs": [],
   "source": []
  }
 ],
 "metadata": {
  "kernelspec": {
   "display_name": "Python 3 (ipykernel)",
   "language": "python",
   "name": "python3"
  },
  "language_info": {
   "codemirror_mode": {
    "name": "ipython",
    "version": 3
   },
   "file_extension": ".py",
   "mimetype": "text/x-python",
   "name": "python",
   "nbconvert_exporter": "python",
   "pygments_lexer": "ipython3",
   "version": "3.9.13"
  }
 },
 "nbformat": 4,
 "nbformat_minor": 5
}
